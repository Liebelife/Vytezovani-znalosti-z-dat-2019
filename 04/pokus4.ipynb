{
 "cells": [
  {
   "cell_type": "markdown",
   "metadata": {},
   "source": [
    "# Úkol č. 4 - regrese (do 12. května)\n",
    "\n",
    "  * Cílem tohoto úkolu je vyzkoušet si řešit regresní problém na reálných (ale celkem vyčištěných) datech.\n",
    "  \n",
    "> **Nejdůležitější na úkolu je to, abyste udělali vše procesně správně: korektní rozdělení datasetu, ladění hyperparametrů, vyhodnocení výsledků atp.**\n",
    "\n",
    "## Dataset\n",
    "\n",
    "  * Zdrojem dat je list *Data* v souboru `Residential-Building-Data-Set.xlsx` na course pages (originál zde: https://archive.ics.uci.edu/ml/datasets/Residential+Building+Data+Set#).\n",
    "  * Popis datasetu najdete na listu *Descriptions* ve stejném souboru.\n",
    "  \n",
    "\n",
    "## Pokyny k vypracování\n",
    "\n",
    "  1. Rozdělte data na trénovací a testovací množinu.\n",
    "  1. Proveďte základní průzkum dat a příp. vyhoďte nezajímavé příznaky.\n",
    "  1. Aplikujte lineární a hřebenovou regresi a výsledky řádně vyhodnoťte:\n",
    "    * K měření chyby použijte `mean_absolute_error`.\n",
    "    * Experimentujte s tvorbou nových příznaků (na základě těch dostupných).\n",
    "    * Experimentujte se standardizací/normalizací dat.\n",
    "    * Vyberte si hyperparametry modelů k ladění a najděte jejich nejlepší hodnoty.\n",
    "  1. Použijte i jiný model než jen lineární a hřebenovou regresi.\n",
    "\n",
    "\n",
    "## Poznámky k odevzdání\n",
    "\n",
    "  * Řiďte se pokyny ze stránky https://courses.fit.cvut.cz/BI-VZD/homeworks/index.html.\n",
    "  * Odevzdejte pouze tento Jupyter Notebook, opravujíví by neměl nic jiného potřebovat.\n",
    "  * Opravující Vám může umožnit úkol dodělat či opravit a získat tak další body. První verze je ale důležitá a bude-li odbytá, budete za to penalizováni."
   ]
  },
  {
   "cell_type": "code",
   "execution_count": 1,
   "metadata": {},
   "outputs": [],
   "source": [
    "import pandas as pd\n",
    "import numpy as np\n",
    "import matplotlib.pyplot as plt\n",
    "pd.options.display.max_columns = None  ## pro zobrazení všech sloupců\n",
    "np.set_printoptions(precision=5, suppress=True)  # suppress scientific float notation (so 0.000 is printed as 0.)"
   ]
  },
  {
   "cell_type": "markdown",
   "metadata": {},
   "source": [
    "Načtení dat, kontrola přítomnosti null hodnot"
   ]
  },
  {
   "cell_type": "code",
   "execution_count": 2,
   "metadata": {},
   "outputs": [
    {
     "data": {
      "text/plain": [
       "0"
      ]
     },
     "execution_count": 2,
     "metadata": {},
     "output_type": "execute_result"
    }
   ],
   "source": [
    "data = pd.read_excel(\"Residential-Building-Data-Set.xlsx\", sheet_name=0, header=[1])\n",
    "data.isna().sum().sum()"
   ]
  },
  {
   "cell_type": "code",
   "execution_count": 3,
   "metadata": {},
   "outputs": [
    {
     "data": {
      "text/html": [
       "<div>\n",
       "<style scoped>\n",
       "    .dataframe tbody tr th:only-of-type {\n",
       "        vertical-align: middle;\n",
       "    }\n",
       "\n",
       "    .dataframe tbody tr th {\n",
       "        vertical-align: top;\n",
       "    }\n",
       "\n",
       "    .dataframe thead th {\n",
       "        text-align: right;\n",
       "    }\n",
       "</style>\n",
       "<table border=\"1\" class=\"dataframe\">\n",
       "  <thead>\n",
       "    <tr style=\"text-align: right;\">\n",
       "      <th></th>\n",
       "      <th>START YEAR</th>\n",
       "      <th>START QUARTER</th>\n",
       "      <th>COMPLETION YEAR</th>\n",
       "      <th>COMPLETION QUARTER</th>\n",
       "      <th>V-1</th>\n",
       "      <th>V-2</th>\n",
       "      <th>V-3</th>\n",
       "      <th>V-4</th>\n",
       "      <th>V-5</th>\n",
       "      <th>V-6</th>\n",
       "      <th>V-7</th>\n",
       "      <th>V-8</th>\n",
       "      <th>V-11</th>\n",
       "      <th>V-12</th>\n",
       "      <th>V-13</th>\n",
       "      <th>V-14</th>\n",
       "      <th>V-15</th>\n",
       "      <th>V-16</th>\n",
       "      <th>V-17</th>\n",
       "      <th>V-18</th>\n",
       "      <th>V-19</th>\n",
       "      <th>V-20</th>\n",
       "      <th>V-21</th>\n",
       "      <th>V-22</th>\n",
       "      <th>V-23</th>\n",
       "      <th>V-24</th>\n",
       "      <th>V-25</th>\n",
       "      <th>V-26</th>\n",
       "      <th>V-27</th>\n",
       "      <th>V-28</th>\n",
       "      <th>V-29</th>\n",
       "      <th>V-11.1</th>\n",
       "      <th>V-12.1</th>\n",
       "      <th>V-13.1</th>\n",
       "      <th>V-14.1</th>\n",
       "      <th>V-15.1</th>\n",
       "      <th>V-16.1</th>\n",
       "      <th>V-17.1</th>\n",
       "      <th>V-18.1</th>\n",
       "      <th>V-19.1</th>\n",
       "      <th>V-20.1</th>\n",
       "      <th>V-21.1</th>\n",
       "      <th>V-22.1</th>\n",
       "      <th>V-23.1</th>\n",
       "      <th>V-24.1</th>\n",
       "      <th>V-25.1</th>\n",
       "      <th>V-26.1</th>\n",
       "      <th>V-27.1</th>\n",
       "      <th>V-28.1</th>\n",
       "      <th>V-29.1</th>\n",
       "      <th>V-11.2</th>\n",
       "      <th>V-12.2</th>\n",
       "      <th>V-13.2</th>\n",
       "      <th>V-14.2</th>\n",
       "      <th>V-15.2</th>\n",
       "      <th>V-16.2</th>\n",
       "      <th>V-17.2</th>\n",
       "      <th>V-18.2</th>\n",
       "      <th>V-19.2</th>\n",
       "      <th>V-20.2</th>\n",
       "      <th>V-21.2</th>\n",
       "      <th>V-22.2</th>\n",
       "      <th>V-23.2</th>\n",
       "      <th>V-24.2</th>\n",
       "      <th>V-25.2</th>\n",
       "      <th>V-26.2</th>\n",
       "      <th>V-27.2</th>\n",
       "      <th>V-28.2</th>\n",
       "      <th>V-29.2</th>\n",
       "      <th>V-11.3</th>\n",
       "      <th>V-12.3</th>\n",
       "      <th>V-13.3</th>\n",
       "      <th>V-14.3</th>\n",
       "      <th>V-15.3</th>\n",
       "      <th>V-16.3</th>\n",
       "      <th>V-17.3</th>\n",
       "      <th>V-18.3</th>\n",
       "      <th>V-19.3</th>\n",
       "      <th>V-20.3</th>\n",
       "      <th>V-21.3</th>\n",
       "      <th>V-22.3</th>\n",
       "      <th>V-23.3</th>\n",
       "      <th>V-24.3</th>\n",
       "      <th>V-25.3</th>\n",
       "      <th>V-26.3</th>\n",
       "      <th>V-27.3</th>\n",
       "      <th>V-28.3</th>\n",
       "      <th>V-29.3</th>\n",
       "      <th>V-11.4</th>\n",
       "      <th>V-12.4</th>\n",
       "      <th>V-13.4</th>\n",
       "      <th>V-14.4</th>\n",
       "      <th>V-15.4</th>\n",
       "      <th>V-16.4</th>\n",
       "      <th>V-17.4</th>\n",
       "      <th>V-18.4</th>\n",
       "      <th>V-19.4</th>\n",
       "      <th>V-20.4</th>\n",
       "      <th>V-21.4</th>\n",
       "      <th>V-22.4</th>\n",
       "      <th>V-23.4</th>\n",
       "      <th>V-24.4</th>\n",
       "      <th>V-25.4</th>\n",
       "      <th>V-26.4</th>\n",
       "      <th>V-27.4</th>\n",
       "      <th>V-28.4</th>\n",
       "      <th>V-29.4</th>\n",
       "      <th>V-9</th>\n",
       "      <th>V-10</th>\n",
       "    </tr>\n",
       "  </thead>\n",
       "  <tbody>\n",
       "    <tr>\n",
       "      <th>0</th>\n",
       "      <td>81</td>\n",
       "      <td>1</td>\n",
       "      <td>85</td>\n",
       "      <td>1</td>\n",
       "      <td>1</td>\n",
       "      <td>3150.0</td>\n",
       "      <td>920.0</td>\n",
       "      <td>598.5</td>\n",
       "      <td>190</td>\n",
       "      <td>1010.84</td>\n",
       "      <td>16</td>\n",
       "      <td>1200</td>\n",
       "      <td>6713.0</td>\n",
       "      <td>56.2</td>\n",
       "      <td>61.52</td>\n",
       "      <td>6.11</td>\n",
       "      <td>320957.3</td>\n",
       "      <td>3485.8</td>\n",
       "      <td>64.5</td>\n",
       "      <td>239.5</td>\n",
       "      <td>12456.6</td>\n",
       "      <td>15</td>\n",
       "      <td>797.3</td>\n",
       "      <td>809.8</td>\n",
       "      <td>1755.0</td>\n",
       "      <td>8003.0</td>\n",
       "      <td>67.81</td>\n",
       "      <td>63.25</td>\n",
       "      <td>3758.77</td>\n",
       "      <td>42587.0</td>\n",
       "      <td>628132.9</td>\n",
       "      <td>4986.0</td>\n",
       "      <td>55.5</td>\n",
       "      <td>60.78</td>\n",
       "      <td>3.94</td>\n",
       "      <td>297210.1</td>\n",
       "      <td>3663.5</td>\n",
       "      <td>61.5</td>\n",
       "      <td>179.63</td>\n",
       "      <td>9342.45</td>\n",
       "      <td>15</td>\n",
       "      <td>757.8</td>\n",
       "      <td>861.8</td>\n",
       "      <td>1755.0</td>\n",
       "      <td>8018.0</td>\n",
       "      <td>65.0</td>\n",
       "      <td>60.53</td>\n",
       "      <td>3538.71</td>\n",
       "      <td>31940.25</td>\n",
       "      <td>610502.7</td>\n",
       "      <td>6788.0</td>\n",
       "      <td>54.2</td>\n",
       "      <td>59.4</td>\n",
       "      <td>5.41</td>\n",
       "      <td>280451.7</td>\n",
       "      <td>3755.8</td>\n",
       "      <td>58.1</td>\n",
       "      <td>119.75</td>\n",
       "      <td>6228.3</td>\n",
       "      <td>15</td>\n",
       "      <td>795.0</td>\n",
       "      <td>818.5</td>\n",
       "      <td>1755.0</td>\n",
       "      <td>8001.0</td>\n",
       "      <td>63.69</td>\n",
       "      <td>58.55</td>\n",
       "      <td>3347.72</td>\n",
       "      <td>21293.5</td>\n",
       "      <td>589389.6</td>\n",
       "      <td>5728.0</td>\n",
       "      <td>52.4</td>\n",
       "      <td>57.65</td>\n",
       "      <td>5.4</td>\n",
       "      <td>262789.0</td>\n",
       "      <td>2931.4</td>\n",
       "      <td>54.2</td>\n",
       "      <td>59.88</td>\n",
       "      <td>3114.15</td>\n",
       "      <td>15</td>\n",
       "      <td>746.8</td>\n",
       "      <td>815.5</td>\n",
       "      <td>1755.0</td>\n",
       "      <td>8013.0</td>\n",
       "      <td>62.78</td>\n",
       "      <td>56.45</td>\n",
       "      <td>3387.72</td>\n",
       "      <td>10646.75</td>\n",
       "      <td>606524.2</td>\n",
       "      <td>7196.0</td>\n",
       "      <td>51.3</td>\n",
       "      <td>56.13</td>\n",
       "      <td>5.97</td>\n",
       "      <td>249110.7</td>\n",
       "      <td>2562.3</td>\n",
       "      <td>52.8</td>\n",
       "      <td>217.0</td>\n",
       "      <td>10445.6</td>\n",
       "      <td>15</td>\n",
       "      <td>733.8</td>\n",
       "      <td>815.5</td>\n",
       "      <td>1755.0</td>\n",
       "      <td>8002.0</td>\n",
       "      <td>60.74</td>\n",
       "      <td>54.26</td>\n",
       "      <td>2978.26</td>\n",
       "      <td>41407.0</td>\n",
       "      <td>601988.1</td>\n",
       "      <td>2200</td>\n",
       "      <td>410</td>\n",
       "    </tr>\n",
       "  </tbody>\n",
       "</table>\n",
       "</div>"
      ],
      "text/plain": [
       "   START YEAR  START QUARTER  COMPLETION YEAR  COMPLETION QUARTER  V-1  \\\n",
       "0          81              1               85                   1    1   \n",
       "\n",
       "      V-2    V-3    V-4  V-5      V-6  V-7   V-8    V-11  V-12   V-13  V-14  \\\n",
       "0  3150.0  920.0  598.5  190  1010.84   16  1200  6713.0  56.2  61.52  6.11   \n",
       "\n",
       "       V-15    V-16  V-17   V-18     V-19  V-20   V-21   V-22    V-23    V-24  \\\n",
       "0  320957.3  3485.8  64.5  239.5  12456.6    15  797.3  809.8  1755.0  8003.0   \n",
       "\n",
       "    V-25   V-26     V-27     V-28      V-29  V-11.1  V-12.1  V-13.1  V-14.1  \\\n",
       "0  67.81  63.25  3758.77  42587.0  628132.9  4986.0    55.5   60.78    3.94   \n",
       "\n",
       "     V-15.1  V-16.1  V-17.1  V-18.1   V-19.1  V-20.1  V-21.1  V-22.1  V-23.1  \\\n",
       "0  297210.1  3663.5    61.5  179.63  9342.45      15   757.8   861.8  1755.0   \n",
       "\n",
       "   V-24.1  V-25.1  V-26.1   V-27.1    V-28.1    V-29.1  V-11.2  V-12.2  \\\n",
       "0  8018.0    65.0   60.53  3538.71  31940.25  610502.7  6788.0    54.2   \n",
       "\n",
       "   V-13.2  V-14.2    V-15.2  V-16.2  V-17.2  V-18.2  V-19.2  V-20.2  V-21.2  \\\n",
       "0    59.4    5.41  280451.7  3755.8    58.1  119.75  6228.3      15   795.0   \n",
       "\n",
       "   V-22.2  V-23.2  V-24.2  V-25.2  V-26.2   V-27.2   V-28.2    V-29.2  V-11.3  \\\n",
       "0   818.5  1755.0  8001.0   63.69   58.55  3347.72  21293.5  589389.6  5728.0   \n",
       "\n",
       "   V-12.3  V-13.3  V-14.3    V-15.3  V-16.3  V-17.3  V-18.3   V-19.3  V-20.3  \\\n",
       "0    52.4   57.65     5.4  262789.0  2931.4    54.2   59.88  3114.15      15   \n",
       "\n",
       "   V-21.3  V-22.3  V-23.3  V-24.3  V-25.3  V-26.3   V-27.3    V-28.3  \\\n",
       "0   746.8   815.5  1755.0  8013.0   62.78   56.45  3387.72  10646.75   \n",
       "\n",
       "     V-29.3  V-11.4  V-12.4  V-13.4  V-14.4    V-15.4  V-16.4  V-17.4  V-18.4  \\\n",
       "0  606524.2  7196.0    51.3   56.13    5.97  249110.7  2562.3    52.8   217.0   \n",
       "\n",
       "    V-19.4  V-20.4  V-21.4  V-22.4  V-23.4  V-24.4  V-25.4  V-26.4   V-27.4  \\\n",
       "0  10445.6      15   733.8   815.5  1755.0  8002.0   60.74   54.26  2978.26   \n",
       "\n",
       "    V-28.4    V-29.4   V-9  V-10  \n",
       "0  41407.0  601988.1  2200   410  "
      ]
     },
     "execution_count": 3,
     "metadata": {},
     "output_type": "execute_result"
    }
   ],
   "source": [
    "data.head(1)"
   ]
  },
  {
   "cell_type": "markdown",
   "metadata": {},
   "source": [
    "PF-7 je počet čtvrtí roku (year quarters) výstavby. Jelikož se dá V-7 vypočíst z prvních 4 sloupců (důkaz níže), jsou buď sloupce nebo V-7 nadbytečné."
   ]
  },
  {
   "cell_type": "code",
   "execution_count": 4,
   "metadata": {},
   "outputs": [
    {
     "data": {
      "text/plain": [
       "True    372\n",
       "dtype: int64"
      ]
     },
     "execution_count": 4,
     "metadata": {},
     "output_type": "execute_result"
    }
   ],
   "source": [
    "start = data['START YEAR'] + 0.25*data['START QUARTER']\n",
    "completion = data['COMPLETION YEAR'] + 0.25*data['COMPLETION QUARTER']\n",
    "quarters = ((completion - start)*4).astype('int64')\n",
    "(quarters == data['V-7']).value_counts()"
   ]
  },
  {
   "cell_type": "markdown",
   "metadata": {},
   "source": [
    "Rok rok počátku/konce stavby může být ale i tak důležitž a to kvůli cenám v průběhu času, tak smažu pouze quarters."
   ]
  },
  {
   "cell_type": "code",
   "execution_count": 5,
   "metadata": {},
   "outputs": [],
   "source": [
    "data = data.drop(columns=['START QUARTER','COMPLETION QUARTER'])"
   ]
  },
  {
   "cell_type": "markdown",
   "metadata": {},
   "source": [
    "Rozdělení na trénovací a testovací množinu"
   ]
  },
  {
   "cell_type": "code",
   "execution_count": 6,
   "metadata": {},
   "outputs": [
    {
     "name": "stdout",
     "output_type": "stream",
     "text": [
      "Xtrain:  (279, 105) \n",
      "Xtest:  (93, 105) \n",
      "ytrain:  (279, 2) \n",
      "ytest:  (93, 2)\n"
     ]
    }
   ],
   "source": [
    "from sklearn.model_selection import train_test_split\n",
    "X = data[data.columns[:-2]]\n",
    "y = data[data.columns[-2:]] #posledni dva sloupecky\n",
    "Xtrain, Xtest, ytrain, ytest = train_test_split(X, y, test_size=0.25, random_state=42)\n",
    "print(\"Xtrain: \", Xtrain.shape, \"\\nXtest: \", Xtest.shape,\"\\nytrain: \", ytrain.shape,\"\\nytest: \", ytest.shape)"
   ]
  },
  {
   "cell_type": "markdown",
   "metadata": {},
   "source": [
    "## Funkce na výpis MAE, MAPE apod."
   ]
  },
  {
   "cell_type": "markdown",
   "metadata": {},
   "source": [
    "MAE převádím vydělením skutečnou hodnotou výstupu na MAPE (mean absolute percentage error) pro lepší představu o přesnosti odhadu."
   ]
  },
  {
   "cell_type": "code",
   "execution_count": 7,
   "metadata": {},
   "outputs": [],
   "source": [
    "from sklearn.metrics import mean_absolute_error\n",
    "\n",
    "def get_error(ytrue, ypredicted):\n",
    "    mae_raw = mean_absolute_error(y_true=ytrue, y_pred=ypredicted, multioutput='raw_values')\n",
    "    mae_uni = mean_absolute_error(y_true=ytrue, y_pred=ypredicted, multioutput='uniform_average')\n",
    "    print(\"Průměrná chyba odhadu V-9 (out_1): \",round((mae_raw[0]/ytrue['V-9'].mean()) * 100, 2), \"%\",\n",
    "          \"\\tAbsolutní:\", round(mae_raw[0], 2))\n",
    "    print(\"Průměrná chyba odhadu V-10 (out_2): \",round((mae_raw[1]/ytrue['V-10'].mean()) * 100, 2), \"%\",\n",
    "          \"\\tAbsolutní:\", round(mae_raw[1], 2))\n",
    "    print(\"Uniform average (průměr chyb odhadu y1 a y2):\", round(mae_uni, 2))\n",
    "    return {'mape_y1':round((mae_raw[0]/ytrue['V-9'].mean()) * 100,2),\n",
    "            'mape_y2':round((mae_raw[1]/ytrue['V-10'].mean())* 100,2)}"
   ]
  },
  {
   "cell_type": "markdown",
   "metadata": {},
   "source": [
    "### Ukládání MAE do slovníku pro vyhodnocení v Závěru"
   ]
  },
  {
   "cell_type": "code",
   "execution_count": 8,
   "metadata": {},
   "outputs": [],
   "source": [
    "MAE_results = {}"
   ]
  },
  {
   "cell_type": "markdown",
   "metadata": {},
   "source": [
    "Linearni regrese zvlada predpovidat vícenásobné target values.\n",
    "\n",
    "## Bez feature selection:\n",
    "\n",
    "#### Linear"
   ]
  },
  {
   "cell_type": "code",
   "execution_count": 9,
   "metadata": {},
   "outputs": [
    {
     "name": "stdout",
     "output_type": "stream",
     "text": [
      "Průměrná chyba odhadu V-9 (out_1):  7.7 % \tAbsolutní: 123.53\n",
      "Průměrná chyba odhadu V-10 (out_2):  6.56 % \tAbsolutní: 15.96\n",
      "Uniform average (průměr chyb odhadu y1 a y2): 69.74\n"
     ]
    }
   ],
   "source": [
    "#linear regression bez úpravy vstupu\n",
    "from sklearn.linear_model import LinearRegression\n",
    "#fit a predikce\n",
    "lin_reg = LinearRegression()\n",
    "lin_reg.fit(Xtrain, ytrain)\n",
    "yhat = lin_reg.predict(Xtest)\n",
    "#vyhodnocení chyby\n",
    "mae_values = get_error(ytest, yhat)\n",
    "MAE_results['linear, nothing else'] = mae_values"
   ]
  },
  {
   "cell_type": "markdown",
   "metadata": {},
   "source": [
    "#### Ridge (+ vytvoření funkce)"
   ]
  },
  {
   "cell_type": "code",
   "execution_count": 10,
   "metadata": {},
   "outputs": [
    {
     "data": {
      "image/png": "[encoded data removed]",
      "text/plain": [
       "<Figure size 432x288 with 1 Axes>"
      ]
     },
     "metadata": {
      "needs_background": "light"
     },
     "output_type": "display_data"
    },
    {
     "name": "stdout",
     "output_type": "stream",
     "text": [
      "Optimal alpha 400.0\n",
      "Průměrná chyba odhadu V-9 (out_1):  7.56 % \tAbsolutní: 121.21\n",
      "Průměrná chyba odhadu V-10 (out_2):  7.04 % \tAbsolutní: 17.13\n",
      "Uniform average (průměr chyb odhadu y1 a y2): 69.17\n"
     ]
    },
    {
     "data": {
      "image/png": "[encoded data removed]",
      "text/plain": [
       "<Figure size 432x288 with 1 Axes>"
      ]
     },
     "metadata": {
      "needs_background": "light"
     },
     "output_type": "display_data"
    }
   ],
   "source": [
    "from sklearn.linear_model import Ridge\n",
    "from sklearn.model_selection import cross_val_score\n",
    "from scipy import optimize\n",
    "\n",
    "def get_ridge_model(X, Y):\n",
    "    def ridgemodel(alpha):\n",
    "        clf = Ridge(alpha=alpha)\n",
    "        return -np.mean(cross_val_score(clf, X, Y, cv=5, scoring='neg_mean_absolute_error'))\n",
    "    alphas = range(2,80)\n",
    "    alpha_results = [ridgemodel(alpha) for alpha in alphas]\n",
    "    plt.plot(alphas, alpha_results)\n",
    "    plt.show()\n",
    "    # Find Ridge alpha automatically\n",
    "    opt_alpha = optimize.minimize_scalar(ridgemodel, options = {'maxiter': 30}, method = 'bounded', bounds=(0.1, 400))\n",
    "    print('Optimal alpha', round(opt_alpha.x,2))\n",
    "    model = Ridge(alpha = opt_alpha.x)\n",
    "    model.fit(X,Y)\n",
    "    return model\n",
    "    \n",
    "model = get_ridge_model(Xtrain, ytrain)\n",
    "\n",
    "yhat = model.predict(Xtest)\n",
    "plt.scatter(ytest, yhat)\n",
    "plt.plot([0,6000], [0,6000], 'r')\n",
    "\n",
    "mae_values = get_error(ytest, yhat)\n",
    "MAE_results['ridge, nothing else'] = mae_values"
   ]
  },
  {
   "cell_type": "markdown",
   "metadata": {},
   "source": [
    "Tady je vidět, že hodnota alfa nemá moc smysl - zasekla se prostě na bounds, které jsme dali funkci, která má hledat její optimální hodnotu.\n",
    "Hezký komentář zde - porovnání s lasso regresí, kterou zde budu na zkoušku také používat: https://www.youtube.com/watch?v=NGf0voTMlcs (STATQUEST! BAM!)"
   ]
  },
  {
   "cell_type": "markdown",
   "metadata": {},
   "source": [
    "## S feature selection:\n",
    "#### Hledání nejlepšího K (užití validační množiny)"
   ]
  },
  {
   "cell_type": "code",
   "execution_count": 11,
   "metadata": {},
   "outputs": [],
   "source": [
    "from sklearn.feature_selection import SelectKBest, f_regression\n",
    "\n",
    "def find_kbest_k(Xtrain,ytrain,k_dict):\n",
    "    ks = range(2,50,2)\n",
    "    for k in ks:\n",
    "        kb = SelectKBest(score_func=f_regression, k=k)\n",
    "        # y1 (1. sloupec výstupu)\n",
    "        kb.fit(Xtrain, ytrain.iloc[:,0])\n",
    "        k1 = kb.get_support(indices=True) #celkem mam 105 sloupcu priznaku, vypise indexy vybranych priznaku\n",
    "        # y2\n",
    "        kb.fit(Xtrain, ytrain.iloc[:,1])\n",
    "        k2 = kb.get_support(indices=True) #celkem mam 105 sloupcu priznaku, vypise indexy vybranych priznaku\n",
    "        # sjednocení dvou polí - indexy sloupců příznaků pro y1 a y2\n",
    "        k_joined = np.union1d(k1, k2) \n",
    "        \n",
    "        # omezím Xtrain jen na vybrané sloupce K příznaků\n",
    "        Xtrain_new = Xtrain.iloc[:,k_joined]\n",
    "                        \n",
    "        #lin regrese - kvůli score dělám zvlášť y1 (sloupec V-9) a y2 (sloupec V-10)\n",
    "        lin_regressor = LinearRegression()\n",
    "        # y1\n",
    "        n_mae_1 = cross_val_score(lin_regressor,Xtrain_new,ytrain.iloc[:,0],scoring='neg_mean_absolute_error',cv=5)\n",
    "        mean_nmae1 = -np.mean(n_mae_1)\n",
    "        # y2\n",
    "        n_mae_2 = cross_val_score(lin_regressor,Xtrain_new,ytrain.iloc[:,1],scoring='neg_mean_absolute_error',cv=5)\n",
    "        mean_nmae2 = -np.mean(n_mae_2)\n",
    "        \n",
    "        # values slovníku pro K: [počet_nejlepších_příznaků_pro_y1_y2, MAE_pro_y1, MAE_pro_y2, indexy příznaků]\n",
    "        k_dict[k] = [len(k_joined), round(mean_nmae1,2),round(mean_nmae2,2), k_joined]"
   ]
  },
  {
   "cell_type": "markdown",
   "metadata": {},
   "source": [
    "#### Vizualizace pro určení vhodného K"
   ]
  },
  {
   "cell_type": "code",
   "execution_count": 12,
   "metadata": {},
   "outputs": [],
   "source": [
    "k_dict={}\n",
    "find_kbest_k(Xtrain,ytrain,k_dict)\n",
    "# vytvořím seznamy hodnot K, a MAE pro y1 a y2\n",
    "k = [i for i in k_dict]\n",
    "y1 = [i[1] for i in k_dict.values()]\n",
    "y2 = [i[2] for i in k_dict.values()]"
   ]
  },
  {
   "cell_type": "code",
   "execution_count": 13,
   "metadata": {},
   "outputs": [
    {
     "data": {
      "image/png": "[encoded data removed]",
      "text/plain": [
       "<Figure size 432x288 with 2 Axes>"
      ]
     },
     "metadata": {
      "needs_background": "light"
     },
     "output_type": "display_data"
    }
   ],
   "source": [
    "figure, axis_1 = plt.subplots()\n",
    "axis_1.plot(k, y1, '-o', color='r',label='y1')\n",
    "axis_2 = axis_1.twinx()\n",
    "axis_2.plot(k,y2, '-o', color='b',label='y2')\n",
    "plt.title('MAE v závislosti na počtu příznaků K')\n",
    "axis_1.set_xlabel('počet příznaků K')\n",
    "axis_1.legend(loc=\"upper left\")\n",
    "axis_2.legend(loc=\"upper right\")\n",
    "plt.show()"
   ]
  },
  {
   "cell_type": "markdown",
   "metadata": {},
   "source": [
    "Pro oba dohromady se zdá být nejlepší K=20 příznaků."
   ]
  },
  {
   "cell_type": "markdown",
   "metadata": {},
   "source": [
    "\"After a CV, we normally fit to the whole training set - we don't select the CV fold data which had the best performance.\"\n",
    "https://stackoverflow.com/questions/56129726/fitting-model-when-using-cross-validation-to-evaluate-performance"
   ]
  },
  {
   "cell_type": "markdown",
   "metadata": {},
   "source": [
    "Určíme mean absolute error predikce určené za pomoci modelu nafitovaného na datech s K (K=20) vybranými příznaky.\n",
    "Nejprve vytvoříme dataset z původních trénovacích dat - omezíme na vybrané příznaky."
   ]
  },
  {
   "cell_type": "code",
   "execution_count": 14,
   "metadata": {},
   "outputs": [
    {
     "name": "stdout",
     "output_type": "stream",
     "text": [
      "Počet příznaků celkem:  24\n"
     ]
    }
   ],
   "source": [
    "#indexy příznaků sjednocené pro y1 a y2 (do SelectKBest jsme zadali 20, ale celkem bude po sjednocení 24 příznaků)\n",
    "K = k_dict[20][3]\n",
    "#tvorba nového datasetu - trénovacího i testovacího\n",
    "Xtrain_K =  Xtrain.iloc[:,K]\n",
    "Xtest_K = Xtest.iloc[:,K]\n",
    "print(\"Počet příznaků celkem: \",len(K))"
   ]
  },
  {
   "cell_type": "markdown",
   "metadata": {},
   "source": [
    "Lineární regrese"
   ]
  },
  {
   "cell_type": "code",
   "execution_count": 15,
   "metadata": {},
   "outputs": [
    {
     "name": "stdout",
     "output_type": "stream",
     "text": [
      "Průměrná chyba odhadu V-9 (out_1):  8.88 % \tAbsolutní: 142.39\n",
      "Průměrná chyba odhadu V-10 (out_2):  8.64 % \tAbsolutní: 21.03\n",
      "Uniform average (průměr chyb odhadu y1 a y2): 81.71\n"
     ]
    }
   ],
   "source": [
    "lin_regressor = LinearRegression()\n",
    "lin_regressor.fit(Xtrain_K, ytrain)\n",
    "yhat = lin_regressor.predict(Xtest_K)\n",
    "#kvalita modelu\n",
    "mae_values = get_error(ytest, yhat)\n",
    "MAE_results['linear, KBest'] = mae_values"
   ]
  },
  {
   "cell_type": "markdown",
   "metadata": {},
   "source": [
    "Hřebenová regrese"
   ]
  },
  {
   "cell_type": "code",
   "execution_count": 16,
   "metadata": {},
   "outputs": [
    {
     "data": {
      "image/png": "[encoded data removed]",
      "text/plain": [
       "<Figure size 432x288 with 1 Axes>"
      ]
     },
     "metadata": {
      "needs_background": "light"
     },
     "output_type": "display_data"
    },
    {
     "name": "stdout",
     "output_type": "stream",
     "text": [
      "Optimal alpha 51.71\n"
     ]
    },
    {
     "data": {
      "image/png": "[encoded data removed]",
      "text/plain": [
       "<Figure size 432x288 with 1 Axes>"
      ]
     },
     "metadata": {
      "needs_background": "light"
     },
     "output_type": "display_data"
    },
    {
     "name": "stdout",
     "output_type": "stream",
     "text": [
      "Průměrná chyba odhadu V-9 (out_1):  8.77 % \tAbsolutní: 140.65\n",
      "Průměrná chyba odhadu V-10 (out_2):  9.17 % \tAbsolutní: 22.32\n",
      "Uniform average (průměr chyb odhadu y1 a y2): 81.48\n"
     ]
    }
   ],
   "source": [
    "model = get_ridge_model(Xtrain_K, ytrain)\n",
    "yhat = model.predict(Xtest_K)\n",
    "plt.scatter(ytest, yhat)\n",
    "plt.plot([0,6000], [0,6000], 'r')\n",
    "plt.show()\n",
    "#kvalita modelu\n",
    "mae_values = get_error(ytest, yhat)\n",
    "MAE_results['ridge, KBest'] = mae_values"
   ]
  },
  {
   "cell_type": "markdown",
   "metadata": {},
   "source": [
    "## Standardizační okénko"
   ]
  },
  {
   "cell_type": "markdown",
   "metadata": {},
   "source": [
    "https://stats.stackexchange.com/questions/29781/when-conducting-multiple-regression-when-should-you-center-your-predictor-varia\n",
    "\n",
    "\"when using penalization methods such as ridge regression or lasso the result is no longer invariant to standardization. It is, however, often recommended to standardize\" -> další komentář v závěru"
   ]
  },
  {
   "cell_type": "code",
   "execution_count": 17,
   "metadata": {},
   "outputs": [],
   "source": [
    "from sklearn.preprocessing import StandardScaler\n",
    "scaler = StandardScaler()\n",
    "scaler.fit(Xtrain)\n",
    "X2_train = pd.DataFrame(scaler.transform(Xtrain), columns=Xtrain.columns)\n",
    "X2_test = pd.DataFrame(scaler.transform(Xtest), columns=Xtest.columns)"
   ]
  },
  {
   "cell_type": "code",
   "execution_count": 18,
   "metadata": {},
   "outputs": [],
   "source": [
    "# zadávám K=20, určeno výše\n",
    "kb = SelectKBest(score_func=f_regression, k=20)\n",
    "\n",
    "# out_1\n",
    "kb.fit(X2_train, ytrain.iloc[:,0])\n",
    "k1 = kb.get_support(indices=True) #celkem mam 105 sloupcu priznaku, vypise indexy vybranych priznaku\n",
    "# out_2\n",
    "kb.fit(X2_train, ytrain.iloc[:,1])\n",
    "k2 = kb.get_support(indices=True) #celkem mam 105 sloupcu priznaku, vypise indexy vybranych priznaku\n",
    "\n",
    "# sjednocení dvou polí - indexy sloupců příznaků pro out_1 a out_2\n",
    "k_joined = np.union1d(k1, k2) \n",
    "\n",
    "# vytvořím nový dataframe z příznaků, které byly vhodné pro oba (sjednocením) - a co zkusit průnik?\n",
    "Xtrain_new = X2_train.iloc[:,k_joined]\n",
    "# i pro testovací data\n",
    "Xtest_new = X2_test.iloc[:,k_joined]"
   ]
  },
  {
   "cell_type": "markdown",
   "metadata": {},
   "source": [
    "### Se standardizovanými daty"
   ]
  },
  {
   "cell_type": "markdown",
   "metadata": {},
   "source": [
    "Lineární regrese"
   ]
  },
  {
   "cell_type": "code",
   "execution_count": 19,
   "metadata": {},
   "outputs": [
    {
     "name": "stdout",
     "output_type": "stream",
     "text": [
      "Průměrná chyba odhadu V-9 (out_1):  8.88 % \tAbsolutní: 142.39\n",
      "Průměrná chyba odhadu V-10 (out_2):  8.64 % \tAbsolutní: 21.03\n",
      "Uniform average (průměr chyb odhadu y1 a y2): 81.71\n"
     ]
    }
   ],
   "source": [
    "#lin regrese\n",
    "lin_regressor = LinearRegression()\n",
    "lin_regressor.fit(Xtrain_new, ytrain)\n",
    "yhat = lin_regressor.predict(Xtest_new)\n",
    "#kvalita modelu\n",
    "mae_values = get_error(ytest, yhat)\n",
    "MAE_results['linear, KBest, standardized'] = mae_values"
   ]
  },
  {
   "cell_type": "markdown",
   "metadata": {},
   "source": [
    "Hřebenová regrese"
   ]
  },
  {
   "cell_type": "code",
   "execution_count": 20,
   "metadata": {},
   "outputs": [
    {
     "data": {
      "image/png": "[encoded data removed]",
      "text/plain": [
       "<Figure size 432x288 with 1 Axes>"
      ]
     },
     "metadata": {
      "needs_background": "light"
     },
     "output_type": "display_data"
    },
    {
     "name": "stdout",
     "output_type": "stream",
     "text": [
      "Optimal alpha 2.11\n"
     ]
    },
    {
     "data": {
      "image/png": "[encoded data removed]",
      "text/plain": [
       "<Figure size 432x288 with 1 Axes>"
      ]
     },
     "metadata": {
      "needs_background": "light"
     },
     "output_type": "display_data"
    },
    {
     "name": "stdout",
     "output_type": "stream",
     "text": [
      "Průměrná chyba odhadu V-9 (out_1):  9.21 % \tAbsolutní: 147.72\n",
      "Průměrná chyba odhadu V-10 (out_2):  10.14 % \tAbsolutní: 24.69\n",
      "Uniform average (průměr chyb odhadu y1 a y2): 86.2\n"
     ]
    }
   ],
   "source": [
    "model = get_ridge_model(Xtrain_new, ytrain)\n",
    "yhat = model.predict(Xtest_new)\n",
    "plt.scatter(ytest, yhat)\n",
    "plt.plot([0,6000], [0,6000], 'r')\n",
    "plt.show()\n",
    "#kvalita modelu\n",
    "mae_values = get_error(ytest, yhat)\n",
    "MAE_results['ridge, KBest, standardized'] = mae_values"
   ]
  },
  {
   "cell_type": "markdown",
   "metadata": {},
   "source": [
    "## Lasso regression\n",
    "Jelikož lasso regrese dokáže sama anulovat nezajímavé příznaky, vyzkouším predikce s i bez omezení příznaků pomocí SelectKBest."
   ]
  },
  {
   "cell_type": "code",
   "execution_count": 21,
   "metadata": {},
   "outputs": [],
   "source": [
    "from sklearn.linear_model import Lasso\n",
    "from warnings import filterwarnings\n",
    "filterwarnings('ignore') ## POTLAČUJI VÝPIS WARNINGS"
   ]
  },
  {
   "cell_type": "code",
   "execution_count": 22,
   "metadata": {},
   "outputs": [],
   "source": [
    "def get_lasso_model(X, Y):\n",
    "    def lassomodel(alpha):\n",
    "        clf = Lasso(alpha=alpha)\n",
    "        return -np.mean(cross_val_score(clf, X, Y, cv=5, scoring='neg_mean_absolute_error'))\n",
    "    alphas = range(1,30)\n",
    "    alpha_results = [lassomodel(alpha) for alpha in alphas]\n",
    "    plt.plot(alphas, alpha_results)\n",
    "    plt.show()\n",
    "    # Find lasso alpha automatically\n",
    "    opt_alpha = optimize.minimize_scalar(lassomodel, options = {'maxiter': 30}, method = 'bounded', bounds=(0.1, 30))\n",
    "    print('Optimal alpha', round(opt_alpha.x,2))\n",
    "    model = Lasso(alpha = opt_alpha.x)\n",
    "    model.fit(X,Y)\n",
    "    return model"
   ]
  },
  {
   "cell_type": "markdown",
   "metadata": {},
   "source": [
    "Nejprve tedy s nezměněným datasetem"
   ]
  },
  {
   "cell_type": "code",
   "execution_count": 23,
   "metadata": {},
   "outputs": [
    {
     "data": {
      "image/png": "[encoded data removed]",
      "text/plain": [
       "<Figure size 432x288 with 1 Axes>"
      ]
     },
     "metadata": {
      "needs_background": "light"
     },
     "output_type": "display_data"
    },
    {
     "name": "stdout",
     "output_type": "stream",
     "text": [
      "Optimal alpha 14.18\n",
      "Průměrná chyba odhadu V-9 (out_1):  7.53 % \tAbsolutní: 120.72\n",
      "Průměrná chyba odhadu V-10 (out_2):  7.07 % \tAbsolutní: 17.2\n",
      "Uniform average (průměr chyb odhadu y1 a y2): 68.96\n"
     ]
    },
    {
     "data": {
      "image/png": "[encoded data removed]",
      "text/plain": [
       "<Figure size 432x288 with 1 Axes>"
      ]
     },
     "metadata": {
      "needs_background": "light"
     },
     "output_type": "display_data"
    }
   ],
   "source": [
    "model = get_lasso_model(Xtrain, ytrain)\n",
    "yhat = model.predict(Xtest)\n",
    "plt.scatter(ytest, yhat)\n",
    "plt.plot([0,6000], [0,6000], 'r')\n",
    "mae_values = get_error(ytest, yhat)\n",
    "MAE_results['lasso, nothing else'] = mae_values"
   ]
  },
  {
   "cell_type": "markdown",
   "metadata": {},
   "source": [
    "S vybranými K features (K=20)"
   ]
  },
  {
   "cell_type": "code",
   "execution_count": 24,
   "metadata": {},
   "outputs": [
    {
     "data": {
      "image/png": "[encoded data removed]",
      "text/plain": [
       "<Figure size 432x288 with 1 Axes>"
      ]
     },
     "metadata": {
      "needs_background": "light"
     },
     "output_type": "display_data"
    },
    {
     "name": "stdout",
     "output_type": "stream",
     "text": [
      "Optimal alpha 3.06\n",
      "Průměrná chyba odhadu V-9 (out_1):  8.45 % \tAbsolutní: 135.47\n",
      "Průměrná chyba odhadu V-10 (out_2):  9.57 % \tAbsolutní: 23.29\n",
      "Uniform average (průměr chyb odhadu y1 a y2): 79.38\n"
     ]
    },
    {
     "data": {
      "image/png": "[encoded data removed]",
      "text/plain": [
       "<Figure size 432x288 with 1 Axes>"
      ]
     },
     "metadata": {
      "needs_background": "light"
     },
     "output_type": "display_data"
    }
   ],
   "source": [
    "model = get_lasso_model(Xtrain_K, ytrain)\n",
    "yhat = model.predict(Xtest_K)\n",
    "plt.scatter(ytest, yhat)\n",
    "plt.plot([0,6000], [0,6000], 'r')\n",
    "mae_values = get_error(ytest, yhat)\n",
    "MAE_results['lasso, KBest'] = mae_values"
   ]
  },
  {
   "cell_type": "markdown",
   "metadata": {},
   "source": [
    "Se standardizovanými daty a vybranými K=20 příznaky"
   ]
  },
  {
   "cell_type": "code",
   "execution_count": 25,
   "metadata": {},
   "outputs": [
    {
     "data": {
      "image/png": "[encoded data removed]",
      "text/plain": [
       "<Figure size 432x288 with 1 Axes>"
      ]
     },
     "metadata": {
      "needs_background": "light"
     },
     "output_type": "display_data"
    },
    {
     "name": "stdout",
     "output_type": "stream",
     "text": [
      "Optimal alpha 1.58\n",
      "Průměrná chyba odhadu V-9 (out_1):  8.96 % \tAbsolutní: 143.77\n",
      "Průměrná chyba odhadu V-10 (out_2):  13.24 % \tAbsolutní: 32.22\n",
      "Uniform average (průměr chyb odhadu y1 a y2): 87.99\n"
     ]
    },
    {
     "data": {
      "image/png": "[encoded data removed]",
      "text/plain": [
       "<Figure size 432x288 with 1 Axes>"
      ]
     },
     "metadata": {
      "needs_background": "light"
     },
     "output_type": "display_data"
    }
   ],
   "source": [
    "model = get_lasso_model(Xtrain_new, ytrain)\n",
    "yhat = model.predict(Xtest_new)\n",
    "plt.scatter(ytest, yhat)\n",
    "plt.plot([0,6000], [0,6000], 'r')\n",
    "mae_values = get_error(ytest, yhat)\n",
    "MAE_results['lasso, KBest, standardized'] = mae_values"
   ]
  },
  {
   "cell_type": "markdown",
   "metadata": {},
   "source": [
    "## Závěr"
   ]
  },
  {
   "cell_type": "markdown",
   "metadata": {},
   "source": [
    "Vyzkoušela jsem tvorbu modelů pomocí **lineární, hřebenové a lasso regrese**. Tyto modely jsem aplikovala na prakticky nezměněná data, na data omezená na K vybraných příznaků a jako třetí variantu jsem zkoušela model na datech s K vybranými příznaky, které byly navíc standardizované.\n",
    "\n",
    "Výsledky jsem vyhodnocovala podle **mean absolute error**, který jsem pro lepší představu **převedla** vydělením průměrnou hodnotou skutečného výstupu na **mean absolute percentage error**.\n",
    "\n",
    "**Cílem bylo natrénovat model, který by co nejlépe predikoval obě výstupní proměnné (V-9 a V-10) najednou.**\n",
    "\n",
    "Všechny výše uvedené typy regresí poskytují v balíčku scikit learn možnost pracovat s **vícenásobným výstupem**.\n",
    "\n",
    "Na **problém s vícenásobným výstupem** jsem narazila při použití **SelectKBest**, který tuto možnost nepodporuje. Pro určení nejlepšího K jsem tedy **postupovala pro každý výstup zvlášť**, vyplotila si pro každé K MAE získané cross-validací na trénovací množině také pro každý výstup zvlášť a podle toho určila společný nejlepší počet příznaků.\n",
    "\n",
    "**Hledání společných příznaků** jsem vyřešila tak, že pro každé z y1 a y2 jsem sjednotila příznaky vhodné pro oba. Takže **například**: pokud jsem zadala do SelectKBest K=10, pak jsem hledala zvlášť 10 nejvhodnějších příznaků pro y1 a to samé pro y2. Poté, co jsem získala indexy těchto příznaků, jsem provedla jejich sjednocení a zobrazila si, kolik příznaků je v této sjednocené množině. Takže výsledek mohl být například F = 12, protože příznaky se pro y1 a y2 lišily jen o 2. Protože se **konečný počet příznaků** F od **původního K** při vypracovávání tohoto úkolu nelišil o mnoho, vyhodnotila jsem tento postup jako pro tuto úlohu vhodný."
   ]
  },
  {
   "cell_type": "markdown",
   "metadata": {},
   "source": [
    "Výpis procentuelního MAE na testovací množině mape_y1 je MAPE pro výstup y1 (V-9), mape_y2 pro výstup y2 (V-10) a y_avg je průměr obou těchto odchylek."
   ]
  },
  {
   "cell_type": "code",
   "execution_count": 26,
   "metadata": {},
   "outputs": [
    {
     "data": {
      "text/html": [
       "<div>\n",
       "<style scoped>\n",
       "    .dataframe tbody tr th:only-of-type {\n",
       "        vertical-align: middle;\n",
       "    }\n",
       "\n",
       "    .dataframe tbody tr th {\n",
       "        vertical-align: top;\n",
       "    }\n",
       "\n",
       "    .dataframe thead th {\n",
       "        text-align: right;\n",
       "    }\n",
       "</style>\n",
       "<table border=\"1\" class=\"dataframe\">\n",
       "  <thead>\n",
       "    <tr style=\"text-align: right;\">\n",
       "      <th></th>\n",
       "      <th>metoda</th>\n",
       "      <th>mape_y1</th>\n",
       "      <th>mape_y2</th>\n",
       "      <th>y_avg</th>\n",
       "    </tr>\n",
       "  </thead>\n",
       "  <tbody>\n",
       "    <tr>\n",
       "      <th>0</th>\n",
       "      <td>linear, nothing else</td>\n",
       "      <td>7.7</td>\n",
       "      <td>6.56</td>\n",
       "      <td>7.13</td>\n",
       "    </tr>\n",
       "    <tr>\n",
       "      <th>1</th>\n",
       "      <td>ridge, nothing else</td>\n",
       "      <td>7.56</td>\n",
       "      <td>7.04</td>\n",
       "      <td>7.3</td>\n",
       "    </tr>\n",
       "    <tr>\n",
       "      <th>6</th>\n",
       "      <td>lasso, nothing else</td>\n",
       "      <td>7.53</td>\n",
       "      <td>7.07</td>\n",
       "      <td>7.3</td>\n",
       "    </tr>\n",
       "    <tr>\n",
       "      <th>2</th>\n",
       "      <td>linear, KBest</td>\n",
       "      <td>8.88</td>\n",
       "      <td>8.64</td>\n",
       "      <td>8.76</td>\n",
       "    </tr>\n",
       "    <tr>\n",
       "      <th>4</th>\n",
       "      <td>linear, KBest, standardized</td>\n",
       "      <td>8.88</td>\n",
       "      <td>8.64</td>\n",
       "      <td>8.76</td>\n",
       "    </tr>\n",
       "    <tr>\n",
       "      <th>3</th>\n",
       "      <td>ridge, KBest</td>\n",
       "      <td>8.77</td>\n",
       "      <td>9.17</td>\n",
       "      <td>8.97</td>\n",
       "    </tr>\n",
       "    <tr>\n",
       "      <th>7</th>\n",
       "      <td>lasso, KBest</td>\n",
       "      <td>8.45</td>\n",
       "      <td>9.57</td>\n",
       "      <td>9.01</td>\n",
       "    </tr>\n",
       "    <tr>\n",
       "      <th>5</th>\n",
       "      <td>ridge, KBest, standardized</td>\n",
       "      <td>9.21</td>\n",
       "      <td>10.14</td>\n",
       "      <td>9.675</td>\n",
       "    </tr>\n",
       "    <tr>\n",
       "      <th>8</th>\n",
       "      <td>lasso, KBest, standardized</td>\n",
       "      <td>8.96</td>\n",
       "      <td>13.24</td>\n",
       "      <td>11.1</td>\n",
       "    </tr>\n",
       "  </tbody>\n",
       "</table>\n",
       "</div>"
      ],
      "text/plain": [
       "                        metoda mape_y1 mape_y2  y_avg\n",
       "0         linear, nothing else     7.7    6.56   7.13\n",
       "1          ridge, nothing else    7.56    7.04    7.3\n",
       "6          lasso, nothing else    7.53    7.07    7.3\n",
       "2                linear, KBest    8.88    8.64   8.76\n",
       "4  linear, KBest, standardized    8.88    8.64   8.76\n",
       "3                 ridge, KBest    8.77    9.17   8.97\n",
       "7                 lasso, KBest    8.45    9.57   9.01\n",
       "5   ridge, KBest, standardized    9.21   10.14  9.675\n",
       "8   lasso, KBest, standardized    8.96   13.24   11.1"
      ]
     },
     "execution_count": 26,
     "metadata": {},
     "output_type": "execute_result"
    }
   ],
   "source": [
    "ks, y1, y2 = [],[],[]\n",
    "for k,v in MAE_results.items():\n",
    "    ks.append(k)\n",
    "    y1.append(list(v.values())[0])\n",
    "    y2.append(list(v.values())[1])\n",
    "errors = pd.DataFrame([ks,y1,y2]).T\n",
    "errors.columns=['metoda','mape_y1','mape_y2']\n",
    "errors['y_avg'] = (errors['mape_y1']+errors['mape_y2'])/2\n",
    "errors.sort_values(by=['y_avg'])"
   ]
  },
  {
   "cell_type": "markdown",
   "metadata": {},
   "source": [
    "Při pohledu na tabulku, která byla **seřazena vzestupně podle průměrného procentuálního MAE**, je možno pozorovat několik věcí.\n",
    "\n",
    "Nejlépe si vedou regrese aplikované na nijak neupravená data. \n",
    "\n",
    "**Proč tedy používat feature selection?** Je dobré se podívat na to, **o kolik horší jsou výsledky** získané na datasetech, které prošly **výraznou redukcí** příznaků. Původních příznaků bylo 105, po užití KBest selekce jsme data omezili na 24 příznaků.\n",
    "\n",
    "Jako další v pořadí se v tabulce umístila **lineární regrese na datech s K příznaky** a na datech s K standardizovanými příznaky. Výsledky pro tyto obě varianty byly identické. Je vidět, že se průměrné MAPE liší o méně než dvě procenta, což je stále dobrý výsledek.\n",
    "\n",
    "Dále se se vcelku podobnými výsledky umístila **hřebenová a lasso regrese s K vybranými příznaky**. Standardizace v tomto případě pravděpodobně vhodná není, jak je vidět z pozic, které tyto možnosti v tabulce zaujaly.\n",
    "\n",
    "Pokud tedy chceme pracovat pouze s K nejlepšími příznaky, je v našem případě zřejmě nejlepší užít **lineární regresi**, ovšem od hřebenové a lasso regrese se výsledky výrazně neliší (rozdíl mezi linear, Kbest a lasso, Kbest je **sotva 0.05 %**)."
   ]
  }
 ],
 "metadata": {
  "kernelspec": {
   "display_name": "Python 3",
   "language": "python",
   "name": "python3"
  },
  "language_info": {
   "codemirror_mode": {
    "name": "ipython",
    "version": 3
   },
   "file_extension": ".py",
   "mimetype": "text/x-python",
   "name": "python",
   "nbconvert_exporter": "python",
   "pygments_lexer": "ipython3",
   "version": "3.7.4"
  }
 },
 "nbformat": 4,
 "nbformat_minor": 4
}
